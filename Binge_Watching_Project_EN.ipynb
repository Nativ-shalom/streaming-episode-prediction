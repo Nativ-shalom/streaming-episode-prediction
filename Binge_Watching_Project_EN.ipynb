{
  "cells": [
    {
      "cell_type": "markdown",
      "metadata": {
        "id": "view-in-github",
        "colab_type": "text"
      },
      "source": [
        "<a href=\"https://colab.research.google.com/github/Nativ-shalom/streaming-episode-prediction/blob/main/Binge_Watching_Project_EN.ipynb\" target=\"_parent\"><img src=\"https://colab.research.google.com/assets/colab-badge.svg\" alt=\"Open In Colab\"/></a>"
      ]
    },
    {
      "cell_type": "markdown",
      "metadata": {
        "id": "Xz5Nk0uXHoyl"
      },
      "source": [
        "# 🎬 Predicting Binge Watching Based on Auto-Play Timing\n",
        "\n",
        "This project explores whether the delay between episodes (auto-play delay) affects the likelihood that a user will continue watching the next episode.\n",
        "- We'll create synthetic data\n",
        "- Perform EDA (Exploratory Data Analysis)\n",
        "- Build classification models\n",
        "- Evaluate performance and draw insights"
      ]
    },
    {
      "cell_type": "code",
      "execution_count": 2,
      "metadata": {
        "colab": {
          "base_uri": "https://localhost:8080/",
          "height": 206
        },
        "id": "8FxddKu0Hoyo",
        "outputId": "bcdb74cc-6c34-459b-b3da-f1c77444bb48"
      },
      "outputs": [
        {
          "output_type": "execute_result",
          "data": {
            "text/plain": [
              "   auto_play_delay  episode_length  finished_percent  hour_of_day day_of_week  \\\n",
              "0               60              48              0.51            7         Fri   \n",
              "1                5              42              0.43           23         Fri   \n",
              "2                5              41              0.43           23         Thu   \n",
              "3               10              40              0.77           21         Fri   \n",
              "4                5              47              0.98           14         Sat   \n",
              "\n",
              "  device_type  continued  \n",
              "0          TV          1  \n",
              "1          PC          1  \n",
              "2      Mobile          0  \n",
              "3          PC          1  \n",
              "4      Mobile          0  "
            ],
            "text/html": [
              "\n",
              "  <div id=\"df-a49184df-6012-49cb-875b-3a7bd1eb468f\" class=\"colab-df-container\">\n",
              "    <div>\n",
              "<style scoped>\n",
              "    .dataframe tbody tr th:only-of-type {\n",
              "        vertical-align: middle;\n",
              "    }\n",
              "\n",
              "    .dataframe tbody tr th {\n",
              "        vertical-align: top;\n",
              "    }\n",
              "\n",
              "    .dataframe thead th {\n",
              "        text-align: right;\n",
              "    }\n",
              "</style>\n",
              "<table border=\"1\" class=\"dataframe\">\n",
              "  <thead>\n",
              "    <tr style=\"text-align: right;\">\n",
              "      <th></th>\n",
              "      <th>auto_play_delay</th>\n",
              "      <th>episode_length</th>\n",
              "      <th>finished_percent</th>\n",
              "      <th>hour_of_day</th>\n",
              "      <th>day_of_week</th>\n",
              "      <th>device_type</th>\n",
              "      <th>continued</th>\n",
              "    </tr>\n",
              "  </thead>\n",
              "  <tbody>\n",
              "    <tr>\n",
              "      <th>0</th>\n",
              "      <td>60</td>\n",
              "      <td>48</td>\n",
              "      <td>0.51</td>\n",
              "      <td>7</td>\n",
              "      <td>Fri</td>\n",
              "      <td>TV</td>\n",
              "      <td>1</td>\n",
              "    </tr>\n",
              "    <tr>\n",
              "      <th>1</th>\n",
              "      <td>5</td>\n",
              "      <td>42</td>\n",
              "      <td>0.43</td>\n",
              "      <td>23</td>\n",
              "      <td>Fri</td>\n",
              "      <td>PC</td>\n",
              "      <td>1</td>\n",
              "    </tr>\n",
              "    <tr>\n",
              "      <th>2</th>\n",
              "      <td>5</td>\n",
              "      <td>41</td>\n",
              "      <td>0.43</td>\n",
              "      <td>23</td>\n",
              "      <td>Thu</td>\n",
              "      <td>Mobile</td>\n",
              "      <td>0</td>\n",
              "    </tr>\n",
              "    <tr>\n",
              "      <th>3</th>\n",
              "      <td>10</td>\n",
              "      <td>40</td>\n",
              "      <td>0.77</td>\n",
              "      <td>21</td>\n",
              "      <td>Fri</td>\n",
              "      <td>PC</td>\n",
              "      <td>1</td>\n",
              "    </tr>\n",
              "    <tr>\n",
              "      <th>4</th>\n",
              "      <td>5</td>\n",
              "      <td>47</td>\n",
              "      <td>0.98</td>\n",
              "      <td>14</td>\n",
              "      <td>Sat</td>\n",
              "      <td>Mobile</td>\n",
              "      <td>0</td>\n",
              "    </tr>\n",
              "  </tbody>\n",
              "</table>\n",
              "</div>\n",
              "    <div class=\"colab-df-buttons\">\n",
              "\n",
              "  <div class=\"colab-df-container\">\n",
              "    <button class=\"colab-df-convert\" onclick=\"convertToInteractive('df-a49184df-6012-49cb-875b-3a7bd1eb468f')\"\n",
              "            title=\"Convert this dataframe to an interactive table.\"\n",
              "            style=\"display:none;\">\n",
              "\n",
              "  <svg xmlns=\"http://www.w3.org/2000/svg\" height=\"24px\" viewBox=\"0 -960 960 960\">\n",
              "    <path d=\"M120-120v-720h720v720H120Zm60-500h600v-160H180v160Zm220 220h160v-160H400v160Zm0 220h160v-160H400v160ZM180-400h160v-160H180v160Zm440 0h160v-160H620v160ZM180-180h160v-160H180v160Zm440 0h160v-160H620v160Z\"/>\n",
              "  </svg>\n",
              "    </button>\n",
              "\n",
              "  <style>\n",
              "    .colab-df-container {\n",
              "      display:flex;\n",
              "      gap: 12px;\n",
              "    }\n",
              "\n",
              "    .colab-df-convert {\n",
              "      background-color: #E8F0FE;\n",
              "      border: none;\n",
              "      border-radius: 50%;\n",
              "      cursor: pointer;\n",
              "      display: none;\n",
              "      fill: #1967D2;\n",
              "      height: 32px;\n",
              "      padding: 0 0 0 0;\n",
              "      width: 32px;\n",
              "    }\n",
              "\n",
              "    .colab-df-convert:hover {\n",
              "      background-color: #E2EBFA;\n",
              "      box-shadow: 0px 1px 2px rgba(60, 64, 67, 0.3), 0px 1px 3px 1px rgba(60, 64, 67, 0.15);\n",
              "      fill: #174EA6;\n",
              "    }\n",
              "\n",
              "    .colab-df-buttons div {\n",
              "      margin-bottom: 4px;\n",
              "    }\n",
              "\n",
              "    [theme=dark] .colab-df-convert {\n",
              "      background-color: #3B4455;\n",
              "      fill: #D2E3FC;\n",
              "    }\n",
              "\n",
              "    [theme=dark] .colab-df-convert:hover {\n",
              "      background-color: #434B5C;\n",
              "      box-shadow: 0px 1px 3px 1px rgba(0, 0, 0, 0.15);\n",
              "      filter: drop-shadow(0px 1px 2px rgba(0, 0, 0, 0.3));\n",
              "      fill: #FFFFFF;\n",
              "    }\n",
              "  </style>\n",
              "\n",
              "    <script>\n",
              "      const buttonEl =\n",
              "        document.querySelector('#df-a49184df-6012-49cb-875b-3a7bd1eb468f button.colab-df-convert');\n",
              "      buttonEl.style.display =\n",
              "        google.colab.kernel.accessAllowed ? 'block' : 'none';\n",
              "\n",
              "      async function convertToInteractive(key) {\n",
              "        const element = document.querySelector('#df-a49184df-6012-49cb-875b-3a7bd1eb468f');\n",
              "        const dataTable =\n",
              "          await google.colab.kernel.invokeFunction('convertToInteractive',\n",
              "                                                    [key], {});\n",
              "        if (!dataTable) return;\n",
              "\n",
              "        const docLinkHtml = 'Like what you see? Visit the ' +\n",
              "          '<a target=\"_blank\" href=https://colab.research.google.com/notebooks/data_table.ipynb>data table notebook</a>'\n",
              "          + ' to learn more about interactive tables.';\n",
              "        element.innerHTML = '';\n",
              "        dataTable['output_type'] = 'display_data';\n",
              "        await google.colab.output.renderOutput(dataTable, element);\n",
              "        const docLink = document.createElement('div');\n",
              "        docLink.innerHTML = docLinkHtml;\n",
              "        element.appendChild(docLink);\n",
              "      }\n",
              "    </script>\n",
              "  </div>\n",
              "\n",
              "\n",
              "<div id=\"df-badc8e87-b94a-4b96-b169-cc64b0e8e999\">\n",
              "  <button class=\"colab-df-quickchart\" onclick=\"quickchart('df-badc8e87-b94a-4b96-b169-cc64b0e8e999')\"\n",
              "            title=\"Suggest charts\"\n",
              "            style=\"display:none;\">\n",
              "\n",
              "<svg xmlns=\"http://www.w3.org/2000/svg\" height=\"24px\"viewBox=\"0 0 24 24\"\n",
              "     width=\"24px\">\n",
              "    <g>\n",
              "        <path d=\"M19 3H5c-1.1 0-2 .9-2 2v14c0 1.1.9 2 2 2h14c1.1 0 2-.9 2-2V5c0-1.1-.9-2-2-2zM9 17H7v-7h2v7zm4 0h-2V7h2v10zm4 0h-2v-4h2v4z\"/>\n",
              "    </g>\n",
              "</svg>\n",
              "  </button>\n",
              "\n",
              "<style>\n",
              "  .colab-df-quickchart {\n",
              "      --bg-color: #E8F0FE;\n",
              "      --fill-color: #1967D2;\n",
              "      --hover-bg-color: #E2EBFA;\n",
              "      --hover-fill-color: #174EA6;\n",
              "      --disabled-fill-color: #AAA;\n",
              "      --disabled-bg-color: #DDD;\n",
              "  }\n",
              "\n",
              "  [theme=dark] .colab-df-quickchart {\n",
              "      --bg-color: #3B4455;\n",
              "      --fill-color: #D2E3FC;\n",
              "      --hover-bg-color: #434B5C;\n",
              "      --hover-fill-color: #FFFFFF;\n",
              "      --disabled-bg-color: #3B4455;\n",
              "      --disabled-fill-color: #666;\n",
              "  }\n",
              "\n",
              "  .colab-df-quickchart {\n",
              "    background-color: var(--bg-color);\n",
              "    border: none;\n",
              "    border-radius: 50%;\n",
              "    cursor: pointer;\n",
              "    display: none;\n",
              "    fill: var(--fill-color);\n",
              "    height: 32px;\n",
              "    padding: 0;\n",
              "    width: 32px;\n",
              "  }\n",
              "\n",
              "  .colab-df-quickchart:hover {\n",
              "    background-color: var(--hover-bg-color);\n",
              "    box-shadow: 0 1px 2px rgba(60, 64, 67, 0.3), 0 1px 3px 1px rgba(60, 64, 67, 0.15);\n",
              "    fill: var(--button-hover-fill-color);\n",
              "  }\n",
              "\n",
              "  .colab-df-quickchart-complete:disabled,\n",
              "  .colab-df-quickchart-complete:disabled:hover {\n",
              "    background-color: var(--disabled-bg-color);\n",
              "    fill: var(--disabled-fill-color);\n",
              "    box-shadow: none;\n",
              "  }\n",
              "\n",
              "  .colab-df-spinner {\n",
              "    border: 2px solid var(--fill-color);\n",
              "    border-color: transparent;\n",
              "    border-bottom-color: var(--fill-color);\n",
              "    animation:\n",
              "      spin 1s steps(1) infinite;\n",
              "  }\n",
              "\n",
              "  @keyframes spin {\n",
              "    0% {\n",
              "      border-color: transparent;\n",
              "      border-bottom-color: var(--fill-color);\n",
              "      border-left-color: var(--fill-color);\n",
              "    }\n",
              "    20% {\n",
              "      border-color: transparent;\n",
              "      border-left-color: var(--fill-color);\n",
              "      border-top-color: var(--fill-color);\n",
              "    }\n",
              "    30% {\n",
              "      border-color: transparent;\n",
              "      border-left-color: var(--fill-color);\n",
              "      border-top-color: var(--fill-color);\n",
              "      border-right-color: var(--fill-color);\n",
              "    }\n",
              "    40% {\n",
              "      border-color: transparent;\n",
              "      border-right-color: var(--fill-color);\n",
              "      border-top-color: var(--fill-color);\n",
              "    }\n",
              "    60% {\n",
              "      border-color: transparent;\n",
              "      border-right-color: var(--fill-color);\n",
              "    }\n",
              "    80% {\n",
              "      border-color: transparent;\n",
              "      border-right-color: var(--fill-color);\n",
              "      border-bottom-color: var(--fill-color);\n",
              "    }\n",
              "    90% {\n",
              "      border-color: transparent;\n",
              "      border-bottom-color: var(--fill-color);\n",
              "    }\n",
              "  }\n",
              "</style>\n",
              "\n",
              "  <script>\n",
              "    async function quickchart(key) {\n",
              "      const quickchartButtonEl =\n",
              "        document.querySelector('#' + key + ' button');\n",
              "      quickchartButtonEl.disabled = true;  // To prevent multiple clicks.\n",
              "      quickchartButtonEl.classList.add('colab-df-spinner');\n",
              "      try {\n",
              "        const charts = await google.colab.kernel.invokeFunction(\n",
              "            'suggestCharts', [key], {});\n",
              "      } catch (error) {\n",
              "        console.error('Error during call to suggestCharts:', error);\n",
              "      }\n",
              "      quickchartButtonEl.classList.remove('colab-df-spinner');\n",
              "      quickchartButtonEl.classList.add('colab-df-quickchart-complete');\n",
              "    }\n",
              "    (() => {\n",
              "      let quickchartButtonEl =\n",
              "        document.querySelector('#df-badc8e87-b94a-4b96-b169-cc64b0e8e999 button');\n",
              "      quickchartButtonEl.style.display =\n",
              "        google.colab.kernel.accessAllowed ? 'block' : 'none';\n",
              "    })();\n",
              "  </script>\n",
              "</div>\n",
              "\n",
              "    </div>\n",
              "  </div>\n"
            ],
            "application/vnd.google.colaboratory.intrinsic+json": {
              "type": "dataframe",
              "variable_name": "df",
              "summary": "{\n  \"name\": \"df\",\n  \"rows\": 500,\n  \"fields\": [\n    {\n      \"column\": \"auto_play_delay\",\n      \"properties\": {\n        \"dtype\": \"number\",\n        \"std\": 19,\n        \"min\": 0,\n        \"max\": 60,\n        \"num_unique_values\": 7,\n        \"samples\": [\n          60,\n          5,\n          0\n        ],\n        \"semantic_type\": \"\",\n        \"description\": \"\"\n      }\n    },\n    {\n      \"column\": \"episode_length\",\n      \"properties\": {\n        \"dtype\": \"number\",\n        \"std\": 11,\n        \"min\": 20,\n        \"max\": 60,\n        \"num_unique_values\": 41,\n        \"samples\": [\n          52,\n          58,\n          33\n        ],\n        \"semantic_type\": \"\",\n        \"description\": \"\"\n      }\n    },\n    {\n      \"column\": \"finished_percent\",\n      \"properties\": {\n        \"dtype\": \"number\",\n        \"std\": 0.17571805048580819,\n        \"min\": 0.4,\n        \"max\": 1.0,\n        \"num_unique_values\": 61,\n        \"samples\": [\n          0.51,\n          0.54,\n          0.73\n        ],\n        \"semantic_type\": \"\",\n        \"description\": \"\"\n      }\n    },\n    {\n      \"column\": \"hour_of_day\",\n      \"properties\": {\n        \"dtype\": \"number\",\n        \"std\": 7,\n        \"min\": 0,\n        \"max\": 23,\n        \"num_unique_values\": 24,\n        \"samples\": [\n          4,\n          10,\n          7\n        ],\n        \"semantic_type\": \"\",\n        \"description\": \"\"\n      }\n    },\n    {\n      \"column\": \"day_of_week\",\n      \"properties\": {\n        \"dtype\": \"category\",\n        \"num_unique_values\": 7,\n        \"samples\": [\n          \"Fri\",\n          \"Thu\",\n          \"Mon\"\n        ],\n        \"semantic_type\": \"\",\n        \"description\": \"\"\n      }\n    },\n    {\n      \"column\": \"device_type\",\n      \"properties\": {\n        \"dtype\": \"category\",\n        \"num_unique_values\": 4,\n        \"samples\": [\n          \"PC\",\n          \"Tablet\",\n          \"TV\"\n        ],\n        \"semantic_type\": \"\",\n        \"description\": \"\"\n      }\n    },\n    {\n      \"column\": \"continued\",\n      \"properties\": {\n        \"dtype\": \"number\",\n        \"std\": 0,\n        \"min\": 0,\n        \"max\": 1,\n        \"num_unique_values\": 2,\n        \"samples\": [\n          0,\n          1\n        ],\n        \"semantic_type\": \"\",\n        \"description\": \"\"\n      }\n    }\n  ]\n}"
            }
          },
          "metadata": {},
          "execution_count": 2
        }
      ],
      "source": [
        "# 📦 create sintetic Data\n",
        "import numpy as np\n",
        "import pandas as pd\n",
        "import random\n",
        "\n",
        "np.random.seed(42)\n",
        "n = 500\n",
        "\n",
        "def simulate_user():\n",
        "    auto_play_delay = np.random.choice([0, 2, 5, 10, 20, 30, 60])\n",
        "    episode_length = np.random.randint(20, 61)\n",
        "    finished_percent = round(np.random.uniform(0.4, 1.0), 2)\n",
        "    hour_of_day = np.random.randint(0, 24)\n",
        "    day_of_week = np.random.choice(['Mon', 'Tue', 'Wed', 'Thu', 'Fri', 'Sat', 'Sun'])\n",
        "    device_type = np.random.choice(['TV', 'Mobile', 'Tablet', 'PC'])\n",
        "\n",
        "    likely_to_continue = (\n",
        "        auto_play_delay <= 5 and\n",
        "        finished_percent >= 0.85 and\n",
        "        (hour_of_day >= 20 or hour_of_day <= 1)\n",
        "    )\n",
        "\n",
        "    continued = int(likely_to_continue or np.random.rand() < 0.2)\n",
        "    return {\n",
        "        'auto_play_delay': auto_play_delay,\n",
        "        'episode_length': episode_length,\n",
        "        'finished_percent': finished_percent,\n",
        "        'hour_of_day': hour_of_day,\n",
        "        'day_of_week': day_of_week,\n",
        "        'device_type': device_type,\n",
        "        'continued': continued\n",
        "    }\n",
        "\n",
        "data = [simulate_user() for _ in range(n)]\n",
        "df = pd.DataFrame(data)\n",
        "df.head()"
      ]
    },
    {
      "cell_type": "markdown",
      "metadata": {
        "id": "MTOG6mttHoyq"
      },
      "source": [
        "## 📊 ניתוח ראשוני (EDA)"
      ]
    },
    {
      "cell_type": "code",
      "execution_count": 3,
      "metadata": {
        "colab": {
          "base_uri": "https://localhost:8080/",
          "height": 472
        },
        "id": "OOKtfMLqHoyq",
        "outputId": "858c058f-dcc3-41a2-f800-70df34fb7af0"
      },
      "outputs": [
        {
          "output_type": "display_data",
          "data": {
            "text/plain": [
              "<Figure size 640x480 with 1 Axes>"
            ],
            "image/png": "[encoded data removed]"
          },
          "metadata": {}
        }
      ],
      "source": [
        "import seaborn as sns\n",
        "import matplotlib.pyplot as plt\n",
        "\n",
        "sns.countplot(x='continued', data=df)\n",
        "plt.title('Distribution of Continued (0/1)')\n",
        "plt.show()"
      ]
    },
    {
      "cell_type": "markdown",
      "metadata": {
        "id": "XExRbGC5Hoyq"
      },
      "source": [
        "## 🤖 בניית מודל ראשוני"
      ]
    },
    {
      "cell_type": "code",
      "execution_count": 5,
      "metadata": {
        "colab": {
          "base_uri": "https://localhost:8080/"
        },
        "id": "ZJO7oo78Hoyr",
        "outputId": "8c7f6a17-fd9b-4143-d8cd-9033477df922"
      },
      "outputs": [
        {
          "output_type": "stream",
          "name": "stdout",
          "text": [
            "              precision    recall  f1-score   support\n",
            "\n",
            "           0       0.76      1.00      0.86       113\n",
            "           1       1.00      0.03      0.05        37\n",
            "\n",
            "    accuracy                           0.76       150\n",
            "   macro avg       0.88      0.51      0.46       150\n",
            "weighted avg       0.82      0.76      0.66       150\n",
            "\n"
          ]
        }
      ],
      "source": [
        "from sklearn.linear_model import LogisticRegression\n",
        "from sklearn.model_selection import train_test_split\n",
        "from sklearn.metrics import classification_report, confusion_matrix\n",
        "\n",
        "df_encoded = pd.get_dummies(df, columns=['device_type', 'day_of_week'], drop_first=True)\n",
        "X = df_encoded.drop(columns=['continued'])\n",
        "y = df_encoded['continued']\n",
        "X_train, X_test, y_train, y_test = train_test_split(X, y, test_size=0.3, random_state=42)\n",
        "\n",
        "clf = LogisticRegression(max_iter=1000)\n",
        "clf.fit(X_train, y_train)\n",
        "y_pred = clf.predict(X_test)\n",
        "\n",
        "print(classification_report(y_test, y_pred))"
      ]
    },
    {
      "cell_type": "code",
      "source": [
        "from sklearn.utils import resample\n",
        "\n",
        "# Separate majority and minority classes\n",
        "df_majority = df[df['continued'] == 0]\n",
        "df_minority = df[df['continued'] == 1]\n",
        "\n",
        "# Upsample minority class\n",
        "df_minority_upsampled = resample(\n",
        "    df_minority,\n",
        "    replace=True,     # sample with replacement\n",
        "    n_samples=len(df_majority),  # match number of majority\n",
        "    random_state=42\n",
        ")\n",
        "\n",
        "# Combine majority class with upsampled minority class\n",
        "df_balanced = pd.concat([df_majority, df_minority_upsampled])\n",
        "\n",
        "# Shuffle the data\n",
        "df_balanced = df_balanced.sample(frac=1, random_state=42).reset_index(drop=True)\n",
        "\n",
        "# Re-encode categorical columns\n",
        "df_encoded_bal = pd.get_dummies(df_balanced, columns=['device_type', 'day_of_week'], drop_first=True)\n",
        "\n",
        "# Split into train/test\n",
        "X_bal = df_encoded_bal.drop(columns=['continued'])\n",
        "y_bal = df_encoded_bal['continued']\n",
        "X_train_bal, X_test_bal, y_train_bal, y_test_bal = train_test_split(X_bal, y_bal, test_size=0.3, random_state=42)\n",
        "\n",
        "# Train logistic regression on balanced data\n",
        "clf_bal = LogisticRegression(max_iter=1000)\n",
        "clf_bal.fit(X_train_bal, y_train_bal)\n",
        "y_pred_bal = clf_bal.predict(X_test_bal)\n",
        "\n",
        "# Show results\n",
        "from sklearn.metrics import classification_report, confusion_matrix\n",
        "print(classification_report(y_test_bal, y_pred_bal))\n",
        "print(confusion_matrix(y_test_bal, y_pred_bal))\n"
      ],
      "metadata": {
        "colab": {
          "base_uri": "https://localhost:8080/"
        },
        "id": "Ei9e7_OlKM9u",
        "outputId": "06166749-d056-4d89-da06-fa70922c110b"
      },
      "execution_count": 6,
      "outputs": [
        {
          "output_type": "stream",
          "name": "stdout",
          "text": [
            "              precision    recall  f1-score   support\n",
            "\n",
            "           0       0.57      0.50      0.53       116\n",
            "           1       0.52      0.60      0.56       107\n",
            "\n",
            "    accuracy                           0.55       223\n",
            "   macro avg       0.55      0.55      0.55       223\n",
            "weighted avg       0.55      0.55      0.55       223\n",
            "\n",
            "[[58 58]\n",
            " [43 64]]\n"
          ]
        }
      ]
    },
    {
      "cell_type": "code",
      "source": [
        "from sklearn.ensemble import RandomForestClassifier\n",
        "\n",
        "# Create and train the model\n",
        "rf_clf = RandomForestClassifier(n_estimators=100, random_state=42)\n",
        "rf_clf.fit(X_train_bal, y_train_bal)\n",
        "\n",
        "# Predict\n",
        "y_pred_rf = rf_clf.predict(X_test_bal)\n",
        "\n",
        "# Evaluate performance\n",
        "from sklearn.metrics import classification_report, confusion_matrix\n",
        "\n",
        "print(\"Random Forest Results:\\n\")\n",
        "print(classification_report(y_test_bal, y_pred_rf))\n",
        "print(confusion_matrix(y_test_bal, y_pred_rf))\n"
      ],
      "metadata": {
        "colab": {
          "base_uri": "https://localhost:8080/"
        },
        "id": "4Rp328WcKnOP",
        "outputId": "71529fad-3964-4853-e216-e662413d7f2c"
      },
      "execution_count": 7,
      "outputs": [
        {
          "output_type": "stream",
          "name": "stdout",
          "text": [
            "Random Forest Results:\n",
            "\n",
            "              precision    recall  f1-score   support\n",
            "\n",
            "           0       0.85      0.91      0.88       116\n",
            "           1       0.89      0.82      0.85       107\n",
            "\n",
            "    accuracy                           0.87       223\n",
            "   macro avg       0.87      0.86      0.86       223\n",
            "weighted avg       0.87      0.87      0.87       223\n",
            "\n",
            "[[105  11]\n",
            " [ 19  88]]\n"
          ]
        }
      ]
    },
    {
      "cell_type": "code",
      "source": [
        "import matplotlib.pyplot as plt\n",
        "import seaborn as sns\n",
        "\n",
        "# get each fiture importance\n",
        "importances = rf_clf.feature_importances_\n",
        "feature_names = X_train_bal.columns\n",
        "\n",
        "# create a table\n",
        "feat_df = pd.DataFrame({\n",
        "    'Feature': feature_names,\n",
        "    'Importance': importances\n",
        "}).sort_values(by='Importance', ascending=False)\n",
        "\n",
        "#  plot\n",
        "plt.figure(figsize=(10,6))\n",
        "sns.barplot(x='Importance', y='Feature', data=feat_df.head(10), palette='viridis')\n",
        "plt.title('Top 10 Feature Importances – Random Forest')\n",
        "plt.tight_layout()\n",
        "plt.show()\n"
      ],
      "metadata": {
        "colab": {
          "base_uri": "https://localhost:8080/",
          "height": 694
        },
        "id": "RvzxWPNQMUXI",
        "outputId": "5e6119c3-7611-4880-992e-c34779283a1e"
      },
      "execution_count": 8,
      "outputs": [
        {
          "output_type": "stream",
          "name": "stderr",
          "text": [
            "<ipython-input-8-2bd4df795fcb>:16: FutureWarning: \n",
            "\n",
            "Passing `palette` without assigning `hue` is deprecated and will be removed in v0.14.0. Assign the `y` variable to `hue` and set `legend=False` for the same effect.\n",
            "\n",
            "  sns.barplot(x='Importance', y='Feature', data=feat_df.head(10), palette='viridis')\n"
          ]
        },
        {
          "output_type": "display_data",
          "data": {
            "text/plain": [
              "<Figure size 1000x600 with 1 Axes>"
            ],
            "image/png": "[encoded data removed]"
          },
          "metadata": {}
        }
      ]
    },
    {
      "cell_type": "code",
      "source": [
        "feat_df.to_csv(\"feature_importance_summary.csv\", index=False)\n"
      ],
      "metadata": {
        "id": "8J8vpInHGTHm"
      },
      "execution_count": 9,
      "outputs": []
    },
    {
      "cell_type": "markdown",
      "source": [
        "##  Summary & Key Insights\n",
        "\n",
        "In this project, we built a machine learning classifier to predict whether users will continue watching the next episode on a streaming platform.\n",
        "\n",
        "Using a balanced dataset and a Random Forest model, we achieved **87% accuracy**, with strong **recall and precision** across both continuation and dropout cases.\n",
        "\n",
        "The feature importance analysis revealed several key behavioral drivers:\n",
        "\n",
        "- **`finished_percent`** was the most important factor: users who finished more of the current episode were significantly more likely to continue.\n",
        "- **`hour_of_day`** had high impact, indicating that users watching during **evening hours** were more likely to keep watching.\n",
        "- **`episode_length`** and **`auto_play_delay`** also played major roles: shorter episodes and faster auto-play transitions increased continuation likelihood.\n",
        "- Device type and day of the week had moderate effects. For example, users on **PCs and TVs** were more likely to continue than those on tablets, and **Sunday/Monday** showed higher engagement.\n",
        "\n",
        "###  Key takeaway:\n",
        "To improve viewer retention, streaming platforms should:\n",
        "- Aim to keep auto-play delay **below 7 seconds**\n",
        "- Optimize for evening-time engagement\n",
        "- Encourage users to finish episodes (e.g., through UI nudges)\n",
        "- Consider device-specific UX adjustments for tablets\n",
        "\n",
        "The model provides interpretable and actionable signals that could be used to personalize the user experience in real time.\n"
      ],
      "metadata": {
        "id": "OTGW2CQ_IahJ"
      }
    }
  ],
  "metadata": {
    "colab": {
      "provenance": [],
      "include_colab_link": true
    },
    "kernelspec": {
      "display_name": "Python 3",
      "language": "python",
      "name": "python3"
    },
    "language_info": {
      "name": "python"
    }
  },
  "nbformat": 4,
  "nbformat_minor": 0
}